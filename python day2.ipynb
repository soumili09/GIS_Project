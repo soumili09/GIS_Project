{
 "cells": [
  {
   "cell_type": "code",
   "execution_count": 1,
   "metadata": {},
   "outputs": [
    {
     "name": "stdout",
     "output_type": "stream",
     "text": [
      "Enter size of debris detected in meter cube7\n",
      "Potentially dangerous debris! Divert.\n"
     ]
    }
   ],
   "source": [
    "sizeDebri = float(input('Enter size of debris detected in meter cube'))\n",
    "if sizeDebri > (5):\n",
    "    print('Potentially dangerous debris! Divert.')\n",
    "else:\n",
    "    print ('Not dangerous.')"
   ]
  },
  {
   "cell_type": "code",
   "execution_count": 4,
   "metadata": {},
   "outputs": [
    {
     "name": "stdout",
     "output_type": "stream",
     "text": [
      "Enter size of debris detected in meter cube 17\n",
      "Enter current distance of ship from debris in km 910\n",
      "Potentially dangerous debris! Divert.\n"
     ]
    }
   ],
   "source": [
    "sizeDebri = float(input('Enter size of debris detected in meter cube '))\n",
    "dist = float(input('Enter current distance of ship from debris in km '))\n",
    "if sizeDebri > (5) and dist <= 1000:\n",
    "    print('Potentially dangerous debris! Divert.')\n",
    "else:\n",
    "    print ('Not dangerous.')"
   ]
  },
  {
   "cell_type": "code",
   "execution_count": 8,
   "metadata": {},
   "outputs": [
    {
     "name": "stdout",
     "output_type": "stream",
     "text": [
      "Enter ineteger 0\n",
      "0  is an even number \n"
     ]
    }
   ],
   "source": [
    "num = int(input('Enter ineteger '))\n",
    "if num % 2 == 0:\n",
    "    print(num, ' is an even number ')\n",
    "else:\n",
    "    print(num, ' is an odd number ')"
   ]
  },
  {
   "cell_type": "code",
   "execution_count": 24,
   "metadata": {},
   "outputs": [
    {
     "name": "stdout",
     "output_type": "stream",
     "text": [
      "Enter year 2100\n",
      "2100 is not a leap year\n"
     ]
    }
   ],
   "source": [
    "year = int(input('Enter year '))\n",
    "if year % 400 == 0:\n",
    "    print (year, 'is a leap year')\n",
    "elif year % 100 == 0:\n",
    "        print(year, 'is not a leap year')\n",
    "elif year % 4 == 0:\n",
    "            print(year, 'is a leap year')\n",
    "else:\n",
    "    print(year, 'is not a leap year')"
   ]
  },
  {
   "cell_type": "code",
   "execution_count": 27,
   "metadata": {},
   "outputs": [
    {
     "name": "stdout",
     "output_type": "stream",
     "text": [
      "Enter Ram's age 9\n",
      "Enter Mohan's age 9\n",
      "Enter Mahesh's age 9\n",
      "All are of the same age\n"
     ]
    }
   ],
   "source": [
    "age1 = int (input(\"Enter Ram's age \" ))\n",
    "age2 = int(input(\"Enter Mohan's age \"))\n",
    "age3 = int(input(\"Enter Mahesh's age \"))\n",
    "if age1 > age2 and age1 > age3 :\n",
    "    print (\"Ram is the eldest of the three\")\n",
    "elif age1 < age2 and age1 < age3:\n",
    "    print (\"Ram is the youngest of the three\")\n",
    "elif age2 > age3 and age2 > age1:\n",
    "    print (\"Mohan is the eldest of the three\")\n",
    "elif age2 < age3 and age2 < age1:\n",
    "    print(\"Mohan is the youngest of the three\")\n",
    "elif age3 > age1 and age3 > age2:\n",
    "    print(\"Mahesh is the eldest of the three\")\n",
    "elif age3 < age2 and age3 < age1:\n",
    "    print(\"Mahesh is the youngest of the three\")\n",
    "else:\n",
    "    print(\"All are of the same age\")\n"
   ]
  },
  {
   "cell_type": "code",
   "execution_count": 28,
   "metadata": {},
   "outputs": [
    {
     "name": "stdout",
     "output_type": "stream",
     "text": [
      "Enter angles of triangle 40\n",
      "89\n",
      "70\n",
      "The angles do not form a valid triangle\n"
     ]
    }
   ],
   "source": [
    "a = float(input('Enter angles of triangle '))\n",
    "b = float(input())\n",
    "c = float(input())\n",
    "sum = a+b+c\n",
    "if sum == 180:\n",
    "    print('The angles form a valid triangle')\n",
    "else:\n",
    "    print('The angles do not form a valid triangle')\n",
    "    "
   ]
  },
  {
   "cell_type": "code",
   "execution_count": 31,
   "metadata": {},
   "outputs": [
    {
     "name": "stdout",
     "output_type": "stream",
     "text": [
      "Enter a number -78.9\n",
      "78.9\n"
     ]
    }
   ],
   "source": [
    "num = float(input('Enter a number '))\n",
    "if (num<0):\n",
    "    print(abs(num))\n",
    "else:\n",
    "    print (num)"
   ]
  },
  {
   "cell_type": "code",
   "execution_count": 36,
   "metadata": {},
   "outputs": [
    {
     "name": "stdout",
     "output_type": "stream",
     "text": [
      "Enter x coordinate of center of circle 6\n",
      "Enter y coordinate of center of circle 7\n",
      "Enter x coordinate of point 9\n",
      "Enter y coordinate of point 10\n",
      "Enter radius of circle 2\n",
      "The point does not lie inside the circle\n"
     ]
    }
   ],
   "source": [
    "x = float(input('Enter x coordinate of center of circle '))\n",
    "y = float(input('Enter y coordinate of center of circle '))\n",
    "x1 = float(input('Enter x coordinate of point '))\n",
    "y1 = float(input('Enter y coordinate of point '))\n",
    "r =  float(input('Enter radius of circle '))\n",
    "\n",
    "if ((x1-x)**2+(y1-y)**2)**0.5 < r :\n",
    "    print ('The point lie within the cicle')\n",
    "elif ((x1-x)**2+(y1-y)**2)**0.5 == r :\n",
    "    print ('The point lie on the circumference of the circle')\n",
    "else:\n",
    "    print ('The point does not lie inside the circle')"
   ]
  },
  {
   "cell_type": "code",
   "execution_count": 8,
   "metadata": {},
   "outputs": [
    {
     "name": "stdout",
     "output_type": "stream",
     "text": [
      "Enter a string strong\n",
      "gnorts\n"
     ]
    }
   ],
   "source": [
    "w = input('Enter a string ')\n",
    "e = w[-2:]\n",
    "t = w[0:2]\n",
    "rev = w[-1:-7:-1]\n",
    "print(rev)\n"
   ]
  },
  {
   "cell_type": "code",
   "execution_count": 4,
   "metadata": {},
   "outputs": [
    {
     "name": "stdout",
     "output_type": "stream",
     "text": [
      "Enter a word be\n",
      "be\n"
     ]
    }
   ],
   "source": [
    "w = input('Enter a word ')\n",
    "e = w[-3:]\n",
    "#print (e)\n",
    "if len(w) >= 3:\n",
    "    if e == \"ing\":\n",
    "        print (w+\"ly\")\n",
    "    else:\n",
    "        print(w+\"ing\")\n",
    "else:\n",
    "    print(w)\n",
    "    "
   ]
  },
  {
   "cell_type": "code",
   "execution_count": null,
   "metadata": {},
   "outputs": [],
   "source": []
  }
 ],
 "metadata": {
  "kernelspec": {
   "display_name": "Python 3 (ipykernel)",
   "language": "python",
   "name": "python3"
  },
  "language_info": {
   "codemirror_mode": {
    "name": "ipython",
    "version": 3
   },
   "file_extension": ".py",
   "mimetype": "text/x-python",
   "name": "python",
   "nbconvert_exporter": "python",
   "pygments_lexer": "ipython3",
   "version": "3.11.0"
  }
 },
 "nbformat": 4,
 "nbformat_minor": 2
}
