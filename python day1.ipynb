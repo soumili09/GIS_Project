{
 "cells": [
  {
   "cell_type": "code",
   "execution_count": 2,
   "metadata": {},
   "outputs": [
    {
     "name": "stdout",
     "output_type": "stream",
     "text": [
      "enter number 69\n",
      "<class 'str'>\n",
      "138\n"
     ]
    }
   ],
   "source": [
    "x=input('enter number ')\n",
    "print(type(x))\n",
    "print (int(x)*2)"
   ]
  },
  {
   "cell_type": "code",
   "execution_count": 18,
   "metadata": {},
   "outputs": [
    {
     "name": "stdout",
     "output_type": "stream",
     "text": [
      "enter radius of sphere 22\n",
      "The volume of sphere of radius 22.0 is equal to 44620.190476190466\n"
     ]
    }
   ],
   "source": [
    "r = float(input('enter radius of sphere '))\n",
    "pi = (22/7)\n",
    "vol = (4/3)*pi*(r**3)\n",
    "print('The volume of sphere of radius',r,'is equal to',vol)"
   ]
  },
  {
   "cell_type": "code",
   "execution_count": 19,
   "metadata": {},
   "outputs": [
    {
     "name": "stdout",
     "output_type": "stream",
     "text": [
      "Total wholesome cost for 60 books will be = 945\n"
     ]
    }
   ],
   "source": [
    "cp = 24.95\n",
    "dp = cp-(cp*0.40)\n",
    "sp = 3+(59*(dp+0.75))+dp\n",
    "print('Total wholesome cost for 60 books will be =',round(sp))\n"
   ]
  },
  {
   "cell_type": "code",
   "execution_count": 2,
   "metadata": {},
   "outputs": [
    {
     "name": "stdout",
     "output_type": "stream",
     "text": [
      "I will reach home for breakfast at  7 : 30 am\n",
      "When running in easy pace I covered 2 miles in  16.5 minutes\n",
      "When running in tempo pace I covered 3 miles in  21.6 minutes\n"
     ]
    }
   ],
   "source": [
    "tteasy = (2*(8+(15/60)))\n",
    "tttempo = (3*(7+(12/60)))\n",
    "arrive = ((6*60)+52+tttempo+tteasy)\n",
    "hr = int(arrive // 60)\n",
    "mn = int(arrive % 60)\n",
    "print('I will reach home for breakfast at ',hr,':',mn,'am')\n",
    "print('When running in easy pace I covered 2 miles in ',tteasy,'minutes')\n",
    "print('When running in tempo pace I covered 3 miles in ',tttempo,'minutes')"
   ]
  },
  {
   "cell_type": "code",
   "execution_count": 3,
   "metadata": {},
   "outputs": [
    {
     "name": "stdout",
     "output_type": "stream",
     "text": [
      "Please enter your name Soumili Dutta\n",
      "Please enter your basic salary 5266566\n",
      "Soumili Dutta, your gross income is  18959637.6\n"
     ]
    }
   ],
   "source": [
    "name = input('Please enter your name ')\n",
    "bs = int(input('Please enter your basic salary '))\n",
    "da = bs+(bs*0.40)\n",
    "hra = bs+(bs*0.20)\n",
    "gi = bs+da+hra\n",
    "print(name+', your gross income is ',gi)"
   ]
  },
  {
   "cell_type": "code",
   "execution_count": 5,
   "metadata": {},
   "outputs": [
    {
     "name": "stdout",
     "output_type": "stream",
     "text": [
      "Enter temperature in degree Farenheit 108\n",
      "Temperature in degree celsius is  42.22222222222222\n"
     ]
    }
   ],
   "source": [
    "temp = float(input('Enter temperature in degree Farenheit '))\n",
    "tc = (temp-32)/1.8\n",
    "print ('Temperature in degree celsius is ',tc)"
   ]
  },
  {
   "cell_type": "code",
   "execution_count": null,
   "metadata": {},
   "outputs": [],
   "source": []
  }
 ],
 "metadata": {
  "kernelspec": {
   "display_name": "Python 3 (ipykernel)",
   "language": "python",
   "name": "python3"
  },
  "language_info": {
   "codemirror_mode": {
    "name": "ipython",
    "version": 3
   },
   "file_extension": ".py",
   "mimetype": "text/x-python",
   "name": "python",
   "nbconvert_exporter": "python",
   "pygments_lexer": "ipython3",
   "version": "3.11.0"
  }
 },
 "nbformat": 4,
 "nbformat_minor": 2
}
